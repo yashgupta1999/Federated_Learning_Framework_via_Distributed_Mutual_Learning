{
 "cells": [
  {
   "cell_type": "code",
   "execution_count": 1,
   "id": "926d84ef-9581-476f-96bd-491bb379b1f5",
   "metadata": {},
   "outputs": [],
   "source": [
    "import tensorflow as tf\n",
    "import numpy as np\n",
    "from tensorflow import keras\n",
    "import sys\n",
    "import codecs, json \n",
    "import json\n",
    "import seaborn as sns\n",
    "import matplotlib.pyplot as plt\n",
    "import os\n",
    "import random\n",
    "import PIL\n",
    "import numpy as np # linear algebra\n",
    "import matplotlib.pyplot as plt # Ploting the diagrams\n",
    "\n",
    "from sklearn.utils import shuffle\n",
    "\n",
    "import math\n",
    "import tensorflow as tf\n",
    "from tensorflow import keras\n",
    "from keras.layers import Conv2D, MaxPooling2D\n",
    "from keras.preprocessing.image import load_img\n",
    "\n",
    "import os\n",
    "from os import listdir\n",
    "from PIL import Image\n",
    "from sklearn.model_selection import train_test_split\n",
    "from sklearn.preprocessing import OneHotEncoder\n",
    "import numpy as np\n",
    "import matplotlib.pyplot as plt # Ploting the diagrams\n",
    "import matplotlib.image as mpimg\n",
    "\n",
    "\n",
    "from tensorflow.keras import layers\n",
    "from tensorflow.keras.models import Sequential\n",
    "from tensorflow.keras.optimizers import Adam\n",
    "\n",
    "from tensorflow.keras.preprocessing.image import img_to_array\n",
    "from tensorflow.keras.preprocessing.image import load_img\n",
    "\n",
    "from sklearn.model_selection import train_test_split\n",
    "\n",
    "from sklearn.metrics import classification_report\n",
    "\n",
    "from tensorflow.keras import models\n",
    "import random\n",
    "from keras.models import model_from_json\n",
    "import pandas as pd\n",
    "tf.random.set_seed(333)"
   ]
  },
  {
   "cell_type": "code",
   "execution_count": 2,
   "id": "14de2bd7-21c8-48ff-b828-d86b93c9cc6a",
   "metadata": {},
   "outputs": [],
   "source": [
    "model = keras.models.load_model(\"G3.h5\")"
   ]
  },
  {
   "cell_type": "code",
   "execution_count": 3,
   "id": "03df56e6-feee-43a4-9638-2151f8502611",
   "metadata": {},
   "outputs": [
    {
     "name": "stdout",
     "output_type": "stream",
     "text": [
      "Model: \"sequential\"\n",
      "_________________________________________________________________\n",
      "Layer (type)                 Output Shape              Param #   \n",
      "=================================================================\n",
      "conv2d (Conv2D)              (None, 98, 98, 32)        896       \n",
      "_________________________________________________________________\n",
      "max_pooling2d (MaxPooling2D) (None, 49, 49, 32)        0         \n",
      "_________________________________________________________________\n",
      "conv2d_1 (Conv2D)            (None, 47, 47, 64)        18496     \n",
      "_________________________________________________________________\n",
      "max_pooling2d_1 (MaxPooling2 (None, 23, 23, 64)        0         \n",
      "_________________________________________________________________\n",
      "conv2d_2 (Conv2D)            (None, 21, 21, 64)        36928     \n",
      "_________________________________________________________________\n",
      "flatten (Flatten)            (None, 28224)             0         \n",
      "_________________________________________________________________\n",
      "dense (Dense)                (None, 64)                1806400   \n",
      "_________________________________________________________________\n",
      "dense_1 (Dense)              (None, 1)                 65        \n",
      "=================================================================\n",
      "Total params: 1,862,785\n",
      "Trainable params: 1,862,785\n",
      "Non-trainable params: 0\n",
      "_________________________________________________________________\n"
     ]
    }
   ],
   "source": [
    "model.summary()"
   ]
  },
  {
   "cell_type": "code",
   "execution_count": 4,
   "id": "a3dff37a-326c-4181-a3df-b6fcf6db8f64",
   "metadata": {},
   "outputs": [],
   "source": [
    "shallow = model.get_weights()[:5]\n",
    "deep = model.get_weights()[5:]"
   ]
  },
  {
   "cell_type": "code",
   "execution_count": 5,
   "id": "c451cba3-9763-454a-ab30-591be94fd356",
   "metadata": {},
   "outputs": [
    {
     "data": {
      "text/plain": [
       "(56320, 1806465)"
      ]
     },
     "execution_count": 5,
     "metadata": {},
     "output_type": "execute_result"
    }
   ],
   "source": [
    "s = 0\n",
    "d = 0\n",
    "\n",
    "for i in model.get_weights()[:6]:\n",
    "    s = s + i.size\n",
    "\n",
    "for i in model.get_weights()[6:]:\n",
    "    d = d + i.size\n",
    "s,d"
   ]
  },
  {
   "cell_type": "code",
   "execution_count": 6,
   "id": "207a3ac6-f4b1-4d83-b8c9-98bffe4a25d8",
   "metadata": {},
   "outputs": [
    {
     "data": {
      "text/plain": [
       "32.07501775568182"
      ]
     },
     "execution_count": 6,
     "metadata": {},
     "output_type": "execute_result"
    }
   ],
   "source": [
    "d/s"
   ]
  },
  {
   "cell_type": "code",
   "execution_count": 7,
   "id": "6e122a7e-a484-4662-9d85-3884c3d0b41b",
   "metadata": {
    "tags": []
   },
   "outputs": [],
   "source": [
    "deep = [ i.tolist() for i in deep]\n",
    "shallow = [ i.tolist() for i in shallow]"
   ]
  },
  {
   "cell_type": "code",
   "execution_count": 8,
   "id": "34b5bf35-f91a-4711-a6e4-014ed1907de0",
   "metadata": {},
   "outputs": [],
   "source": [
    "w = [i.tolist() for i in model.get_weights()]"
   ]
  },
  {
   "cell_type": "code",
   "execution_count": 9,
   "id": "e76367e4-0e1c-48ae-b3b1-e4083467ba49",
   "metadata": {},
   "outputs": [],
   "source": [
    "jd = json.dumps(deep)\n",
    "js = json.dumps(shallow)\n",
    "jw = json.dumps(w)"
   ]
  },
  {
   "cell_type": "code",
   "execution_count": 10,
   "id": "acc325e4-2fd6-4d3d-ab02-fb6d53808836",
   "metadata": {},
   "outputs": [
    {
     "data": {
      "text/plain": [
       "(1235822, 40831208, 42066981)"
      ]
     },
     "execution_count": 10,
     "metadata": {},
     "output_type": "execute_result"
    }
   ],
   "source": [
    "js.__sizeof__(),jd.__sizeof__(),jw.__sizeof__()"
   ]
  },
  {
   "cell_type": "code",
   "execution_count": 11,
   "id": "815a3489-5ac7-47a2-a3cc-e1b8f0eed15d",
   "metadata": {},
   "outputs": [
    {
     "data": {
      "text/plain": [
       "(0.3212012995451592, 10.612399740090968, 10.933588304093567)"
      ]
     },
     "execution_count": 11,
     "metadata": {},
     "output_type": "execute_result"
    }
   ],
   "source": [
    "speed = 30.78 * 1000000\n",
    "jsSize = 1235822*8\n",
    "jdSize = 40831208*8\n",
    "jwSize = 42066981*8\n",
    "jsSize/speed,jdSize/speed,jwSize/speed"
   ]
  },
  {
   "cell_type": "code",
   "execution_count": 12,
   "id": "8d03b01a-5276-4ab1-abf4-402e63b70689",
   "metadata": {},
   "outputs": [
    {
     "data": {
      "text/plain": [
       "34.03967642589305"
      ]
     },
     "execution_count": 12,
     "metadata": {},
     "output_type": "execute_result"
    }
   ],
   "source": [
    "jw.__sizeof__()/js.__sizeof__()"
   ]
  },
  {
   "cell_type": "code",
   "execution_count": 13,
   "id": "e9baf602-9992-4cb9-8516-30589ea825e4",
   "metadata": {},
   "outputs": [],
   "source": [
    "tt = 15.2"
   ]
  },
  {
   "cell_type": "code",
   "execution_count": 14,
   "id": "a628705d-d08a-40f7-b9bd-2f0b6e32dc45",
   "metadata": {},
   "outputs": [
    {
     "data": {
      "text/plain": [
       "[37.066,\n",
       " 111.19800000000001,\n",
       " 185.33,\n",
       " 259.462,\n",
       " 333.59400000000005,\n",
       " 407.726,\n",
       " 481.85800000000006,\n",
       " 555.99,\n",
       " 630.1220000000001,\n",
       " 704.254,\n",
       " 778.3860000000001,\n",
       " 852.518,\n",
       " 926.6500000000001,\n",
       " 1000.782,\n",
       " 1074.914,\n",
       " 1149.046,\n",
       " 1223.178,\n",
       " 1297.3100000000002,\n",
       " 1371.442,\n",
       " 1445.574,\n",
       " 1519.7060000000001,\n",
       " 1593.8380000000002,\n",
       " 1667.97,\n",
       " 1742.102,\n",
       " 1816.2340000000002,\n",
       " 1890.3660000000002,\n",
       " 1964.498,\n",
       " 2038.63,\n",
       " 2112.762,\n",
       " 2186.8940000000002,\n",
       " 2261.0260000000003,\n",
       " 2335.1580000000004,\n",
       " 2409.29,\n",
       " 2483.422,\n",
       " 2557.554,\n",
       " 2631.686,\n",
       " 2705.818,\n",
       " 2779.9500000000003,\n",
       " 2854.0820000000003,\n",
       " 2928.2140000000004,\n",
       " 3002.346,\n",
       " 3076.478,\n",
       " 3150.61,\n",
       " 3224.742,\n",
       " 3298.8740000000003,\n",
       " 3373.0060000000003,\n",
       " 3447.1380000000004,\n",
       " 3521.2700000000004,\n",
       " 3595.402,\n",
       " 3669.534]"
      ]
     },
     "execution_count": 14,
     "metadata": {},
     "output_type": "execute_result"
    }
   ],
   "source": [
    "clients = np.arange(1,100,2)\n",
    "syncTime = []\n",
    "syncSpeed = 10.933\n",
    "for i in clients:\n",
    "    syncTime.append(((2*syncSpeed+tt))*i)\n",
    "syncTime"
   ]
  },
  {
   "cell_type": "code",
   "execution_count": 15,
   "id": "550f009a-abad-4b62-ba6b-512a54d89512",
   "metadata": {},
   "outputs": [
    {
     "data": {
      "text/plain": [
       "[15.819999999999999,\n",
       " 68.06,\n",
       " 99.70000000000002,\n",
       " 151.94,\n",
       " 204.17999999999998,\n",
       " 235.81999999999996,\n",
       " 288.05999999999995,\n",
       " 340.29999999999995,\n",
       " 371.93999999999994,\n",
       " 424.1799999999999,\n",
       " 476.41999999999985,\n",
       " 508.05999999999983,\n",
       " 560.3,\n",
       " 612.5400000000001,\n",
       " 644.1800000000002,\n",
       " 696.4200000000003,\n",
       " 748.6600000000004,\n",
       " 780.3000000000005,\n",
       " 832.5400000000006,\n",
       " 884.7800000000008,\n",
       " 916.4200000000009,\n",
       " 968.660000000001,\n",
       " 1020.9000000000011,\n",
       " 1052.5400000000009,\n",
       " 1104.7800000000009,\n",
       " 1157.020000000001,\n",
       " 1188.6600000000008,\n",
       " 1240.9000000000008,\n",
       " 1293.1400000000008,\n",
       " 1324.7800000000007,\n",
       " 1377.0200000000007,\n",
       " 1429.2600000000007,\n",
       " 1460.9000000000005,\n",
       " 1513.1400000000006,\n",
       " 1565.3800000000006,\n",
       " 1597.0200000000004,\n",
       " 1649.2600000000004,\n",
       " 1701.5000000000005,\n",
       " 1733.1400000000003,\n",
       " 1785.3800000000003,\n",
       " 1837.6200000000003,\n",
       " 1869.2600000000002,\n",
       " 1921.5000000000002,\n",
       " 1973.7400000000002,\n",
       " 2005.38,\n",
       " 2057.62,\n",
       " 2109.859999999999,\n",
       " 2141.4999999999986,\n",
       " 2193.739999999998,\n",
       " 2245.9799999999973]"
      ]
     },
     "execution_count": 15,
     "metadata": {},
     "output_type": "execute_result"
    }
   ],
   "source": [
    "AsyncTime = []\n",
    "DSpeed = 10.61\n",
    "SSpeed = 0.31\n",
    "delta = 3\n",
    "for i in clients:\n",
    "    t = 0\n",
    "    for j in range(i):\n",
    "        t = t+tt\n",
    "        if((j+1)%3==0):\n",
    "            t = t+ 2*DSpeed\n",
    "        else:\n",
    "            t = t + 2*SSpeed\n",
    "        # t = t+tt\n",
    "    AsyncTime.append(t)  \n",
    "AsyncTime"
   ]
  },
  {
   "cell_type": "code",
   "execution_count": 16,
   "id": "59494b10-3a53-493e-a8ea-eb7660cdb506",
   "metadata": {},
   "outputs": [],
   "source": [
    "tDf = pd.DataFrame()\n",
    "tDf[\"Synchronous Weight Update Time\"] = syncTime\n",
    "tDf[\"Asynchronous Weight Update Time\"] = AsyncTime\n",
    "tDf.index = np.arange(1,100,2)"
   ]
  },
  {
   "cell_type": "code",
   "execution_count": 75,
   "id": "5e2409cc-517b-4ded-a7a2-548b773bfd4a",
   "metadata": {},
   "outputs": [
    {
     "data": {
      "image/png": "[encoded data removed]",
      "text/plain": [
       "<Figure size 720x360 with 1 Axes>"
      ]
     },
     "metadata": {
      "needs_background": "light"
     },
     "output_type": "display_data"
    }
   ],
   "source": [
    "plt.rc('legend',fontsize=10) # using a size in points\n",
    "fig,axs = plt.subplots(1,1,figsize = (10,5))   \n",
    "tDf.plot(kind=\"line\",y=[\"Synchronous Weight Update Time\",\"Asynchronous Weight Update Time\"] ,colormap=\"Spectral\",rot=0,ax=axs,title=\"Complete Time Analysis for Different Weight Update Methods\")\n",
    "# plt.yscale(\"log\")  \n",
    "plt.xlabel(\"Rounds\")\n",
    "plt.ylabel(\"Client Training Time + Weight Exchange Time (secs)\")\n",
    "axs.get_legend().set_title(\"Different Weight Update Methods\")\n",
    "plt.savefig(\"time\")"
   ]
  },
  {
   "cell_type": "code",
   "execution_count": 17,
   "id": "f94b6b68-3627-4bd2-89c9-21280a0c3fa7",
   "metadata": {},
   "outputs": [],
   "source": [
    "tDf.to_csv(\"time.csv\")"
   ]
  }
 ],
 "metadata": {
  "kernelspec": {
   "display_name": "Python 3 (ipykernel)",
   "language": "python",
   "name": "python3"
  },
  "language_info": {
   "codemirror_mode": {
    "name": "ipython",
    "version": 3
   },
   "file_extension": ".py",
   "mimetype": "text/x-python",
   "name": "python",
   "nbconvert_exporter": "python",
   "pygments_lexer": "ipython3",
   "version": "3.7.10"
  }
 },
 "nbformat": 4,
 "nbformat_minor": 5
}
