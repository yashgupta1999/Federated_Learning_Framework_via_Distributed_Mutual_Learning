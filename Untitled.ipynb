{
 "cells": [
  {
   "cell_type": "code",
   "execution_count": 1,
   "id": "41d8f5e4-077b-4d9f-82ed-c662aa7fbecd",
   "metadata": {},
   "outputs": [],
   "source": [
    "import numpy as np\n",
    "import pandas as pd\n",
    "import seaborn as sns\n",
    "import matplotlib.pyplot as plt\n",
    "import pickle"
   ]
  },
  {
   "cell_type": "code",
   "execution_count": 3,
   "id": "f270468c-c2fe-4c06-9d02-8f57de6e545b",
   "metadata": {},
   "outputs": [],
   "source": [
    "def test_load(r):\n",
    "    with open('Testing_Rounds_'+str(r)+'.pkl', 'rb') as f:\n",
    "        loaded_dict = pickle.load(f)\n",
    "    return loaded_dict\n",
    "\n",
    "def train_load(r):\n",
    "    with open('Training_Rounds_'+str(r)+'.pkl', 'rb') as f:\n",
    "        loaded_dict = pickle.load(f)\n",
    "    return loaded_dict\n",
    "\n",
    "def load(r):\n",
    "    return {\"train\":train_load(r),\"test\":test_load(r)}\n",
    "\n",
    "rounds = [3,6,9,12]\n",
    "results = {}\n",
    "for r in rounds:\n",
    "    results[r] = load(r)\n",
    "trainKeys = [i for i in results[3][\"train\"].keys()]\n",
    "testKeys = [i for i in results[3][\"test\"].keys()]\n",
    "\n",
    "trainDic = {}\n",
    "testDic = {}\n",
    "\n",
    "for keys in trainKeys:\n",
    "    trainDic[keys] = []\n",
    "\n",
    "for keys in testKeys:\n",
    "    testDic[keys] = []\n",
    "    \n",
    "for r in rounds:\n",
    "    for keys in trainKeys:\n",
    "        trainDic[keys].append(results[r][\"train\"][keys])\n",
    "for r in rounds:\n",
    "    for keys in testKeys:\n",
    "        testDic[keys].append(results[r][\"test\"][keys])\n",
    "\n",
    "trainDf = pd.DataFrame()\n",
    "for key in trainKeys:\n",
    "    trainDf[key] = [i*100 for i in trainDic[key]]\n",
    "trainDf.index = rounds\n",
    "last = testKeys[:2]\n",
    "last.reverse()\n",
    "testKeys = testKeys[2:] + last\n",
    "testKeys\n",
    "testDf = pd.DataFrame()\n",
    "for key in testKeys:\n",
    "    testDf[key] = [i*100 for i in testDic[key]]\n",
    "testDf.index = rounds"
   ]
  },
  {
   "cell_type": "code",
   "execution_count": 7,
   "id": "20e79df7-732a-4877-8f5f-2fc3d360ac2c",
   "metadata": {},
   "outputs": [
    {
     "data": {
      "text/html": [
       "<div>\n",
       "<style scoped>\n",
       "    .dataframe tbody tr th:only-of-type {\n",
       "        vertical-align: middle;\n",
       "    }\n",
       "\n",
       "    .dataframe tbody tr th {\n",
       "        vertical-align: top;\n",
       "    }\n",
       "\n",
       "    .dataframe thead th {\n",
       "        text-align: right;\n",
       "    }\n",
       "</style>\n",
       "<table border=\"1\" class=\"dataframe\">\n",
       "  <thead>\n",
       "    <tr style=\"text-align: right;\">\n",
       "      <th></th>\n",
       "      <th>Initial Accuracy</th>\n",
       "      <th>Client1</th>\n",
       "      <th>Client2</th>\n",
       "      <th>Client3</th>\n",
       "      <th>Client4</th>\n",
       "      <th>Client5</th>\n",
       "      <th>Global Model</th>\n",
       "      <th>Central Model</th>\n",
       "    </tr>\n",
       "  </thead>\n",
       "  <tbody>\n",
       "    <tr>\n",
       "      <th>3</th>\n",
       "      <td>96.666664</td>\n",
       "      <td>98.360658</td>\n",
       "      <td>100.000000</td>\n",
       "      <td>96.721309</td>\n",
       "      <td>98.360658</td>\n",
       "      <td>98.360658</td>\n",
       "      <td>90.163934</td>\n",
       "      <td>96.518713</td>\n",
       "    </tr>\n",
       "    <tr>\n",
       "      <th>6</th>\n",
       "      <td>96.774191</td>\n",
       "      <td>96.875000</td>\n",
       "      <td>100.000000</td>\n",
       "      <td>100.000000</td>\n",
       "      <td>93.750000</td>\n",
       "      <td>96.875000</td>\n",
       "      <td>96.875000</td>\n",
       "      <td>96.779811</td>\n",
       "    </tr>\n",
       "    <tr>\n",
       "      <th>9</th>\n",
       "      <td>90.476191</td>\n",
       "      <td>100.000000</td>\n",
       "      <td>100.000000</td>\n",
       "      <td>90.476191</td>\n",
       "      <td>100.000000</td>\n",
       "      <td>100.000000</td>\n",
       "      <td>95.238096</td>\n",
       "      <td>98.868579</td>\n",
       "    </tr>\n",
       "    <tr>\n",
       "      <th>12</th>\n",
       "      <td>87.500000</td>\n",
       "      <td>100.000000</td>\n",
       "      <td>94.117647</td>\n",
       "      <td>100.000000</td>\n",
       "      <td>100.000000</td>\n",
       "      <td>100.000000</td>\n",
       "      <td>100.000000</td>\n",
       "      <td>97.302002</td>\n",
       "    </tr>\n",
       "  </tbody>\n",
       "</table>\n",
       "</div>"
      ],
      "text/plain": [
       "    Initial Accuracy     Client1     Client2     Client3     Client4  \\\n",
       "3          96.666664   98.360658  100.000000   96.721309   98.360658   \n",
       "6          96.774191   96.875000  100.000000  100.000000   93.750000   \n",
       "9          90.476191  100.000000  100.000000   90.476191  100.000000   \n",
       "12         87.500000  100.000000   94.117647  100.000000  100.000000   \n",
       "\n",
       "       Client5  Global Model  Central Model  \n",
       "3    98.360658     90.163934      96.518713  \n",
       "6    96.875000     96.875000      96.779811  \n",
       "9   100.000000     95.238096      98.868579  \n",
       "12  100.000000    100.000000      97.302002  "
      ]
     },
     "execution_count": 7,
     "metadata": {},
     "output_type": "execute_result"
    }
   ],
   "source": [
    "trainDf"
   ]
  },
  {
   "cell_type": "code",
   "execution_count": 6,
   "id": "3173e877-86b4-40a4-b9d9-e9ca79cf2715",
   "metadata": {},
   "outputs": [
    {
     "data": {
      "text/html": [
       "<div>\n",
       "<style scoped>\n",
       "    .dataframe tbody tr th:only-of-type {\n",
       "        vertical-align: middle;\n",
       "    }\n",
       "\n",
       "    .dataframe tbody tr th {\n",
       "        vertical-align: top;\n",
       "    }\n",
       "\n",
       "    .dataframe thead th {\n",
       "        text-align: right;\n",
       "    }\n",
       "</style>\n",
       "<table border=\"1\" class=\"dataframe\">\n",
       "  <thead>\n",
       "    <tr style=\"text-align: right;\">\n",
       "      <th></th>\n",
       "      <th>Client1</th>\n",
       "      <th>Client2</th>\n",
       "      <th>Client3</th>\n",
       "      <th>Client4</th>\n",
       "      <th>Client5</th>\n",
       "      <th>Global Model</th>\n",
       "      <th>Central Model</th>\n",
       "    </tr>\n",
       "  </thead>\n",
       "  <tbody>\n",
       "    <tr>\n",
       "      <th>3</th>\n",
       "      <td>94.355375</td>\n",
       "      <td>90.881765</td>\n",
       "      <td>94.605881</td>\n",
       "      <td>89.428860</td>\n",
       "      <td>89.228457</td>\n",
       "      <td>92.651969</td>\n",
       "      <td>93.954575</td>\n",
       "    </tr>\n",
       "    <tr>\n",
       "      <th>6</th>\n",
       "      <td>94.372076</td>\n",
       "      <td>94.789577</td>\n",
       "      <td>93.203074</td>\n",
       "      <td>94.121575</td>\n",
       "      <td>94.288576</td>\n",
       "      <td>94.589180</td>\n",
       "      <td>94.722778</td>\n",
       "    </tr>\n",
       "    <tr>\n",
       "      <th>9</th>\n",
       "      <td>94.004679</td>\n",
       "      <td>94.372076</td>\n",
       "      <td>92.384768</td>\n",
       "      <td>92.818969</td>\n",
       "      <td>94.305277</td>\n",
       "      <td>94.288576</td>\n",
       "      <td>94.572479</td>\n",
       "    </tr>\n",
       "    <tr>\n",
       "      <th>12</th>\n",
       "      <td>94.255179</td>\n",
       "      <td>94.722778</td>\n",
       "      <td>88.810956</td>\n",
       "      <td>95.190382</td>\n",
       "      <td>93.687373</td>\n",
       "      <td>94.822979</td>\n",
       "      <td>95.023382</td>\n",
       "    </tr>\n",
       "  </tbody>\n",
       "</table>\n",
       "</div>"
      ],
      "text/plain": [
       "      Client1    Client2    Client3    Client4    Client5  Global Model  \\\n",
       "3   94.355375  90.881765  94.605881  89.428860  89.228457     92.651969   \n",
       "6   94.372076  94.789577  93.203074  94.121575  94.288576     94.589180   \n",
       "9   94.004679  94.372076  92.384768  92.818969  94.305277     94.288576   \n",
       "12  94.255179  94.722778  88.810956  95.190382  93.687373     94.822979   \n",
       "\n",
       "    Central Model  \n",
       "3       93.954575  \n",
       "6       94.722778  \n",
       "9       94.572479  \n",
       "12      95.023382  "
      ]
     },
     "execution_count": 6,
     "metadata": {},
     "output_type": "execute_result"
    }
   ],
   "source": [
    "testDf"
   ]
  },
  {
   "cell_type": "code",
   "execution_count": 8,
   "id": "f454a58b-3586-49ff-b1f7-21a58059a16a",
   "metadata": {},
   "outputs": [
    {
     "data": {
      "image/png": "[encoded data removed]",
      "text/plain": [
       "<Figure size 1440x360 with 1 Axes>"
      ]
     },
     "metadata": {
      "needs_background": "light"
     },
     "output_type": "display_data"
    }
   ],
   "source": [
    "plt.rc('legend',fontsize=10) # using a size in points\n",
    "fig,axs = plt.subplots(1,1,figsize = (20,5))   \n",
    "trainDf.plot(kind=\"bar\",y=trainKeys ,colormap=\"rocket_r\",rot=0,ax=axs,title=\"Accuracy Using Different Rounds and Fold Sizes\")\n",
    "plt.yscale(\"log\")  \n",
    "plt.xlabel(\"Rounds\")\n",
    "plt.ylabel(\"Accuracy\")\n",
    "axs.get_legend().set_title(\"Accuracy On Dataset 1\")\n",
    "plt.savefig(\"r1\")"
   ]
  },
  {
   "cell_type": "code",
   "execution_count": 9,
   "id": "01354bee-2426-4393-9b2c-33302905621a",
   "metadata": {},
   "outputs": [
    {
     "data": {
      "image/png": "[encoded data removed]",
      "text/plain": [
       "<Figure size 1440x360 with 1 Axes>"
      ]
     },
     "metadata": {
      "needs_background": "light"
     },
     "output_type": "display_data"
    }
   ],
   "source": [
    "plt.rc('legend',fontsize=10) # using a size in points\n",
    "fig,axs = plt.subplots(1,1,figsize = (20,5))   \n",
    "testDf.plot(kind=\"bar\",y=testKeys ,colormap=\"rocket_r\",rot=0,ax=axs,title=\"Accuracy Using Different Rounds and Fold Sizes Using New Testing Data\")\n",
    "plt.yscale(\"log\")  \n",
    "plt.xlabel(\"Rounds\")\n",
    "plt.ylabel(\"Accuracy\")\n",
    "axs.get_legend().set_title(\"Accuracy On Dataset 2\")\n",
    "plt.savefig(\"r2\")"
   ]
  }
 ],
 "metadata": {
  "kernelspec": {
   "display_name": "Python 3 (ipykernel)",
   "language": "python",
   "name": "python3"
  },
  "language_info": {
   "codemirror_mode": {
    "name": "ipython",
    "version": 3
   },
   "file_extension": ".py",
   "mimetype": "text/x-python",
   "name": "python",
   "nbconvert_exporter": "python",
   "pygments_lexer": "ipython3",
   "version": "3.12.9"
  }
 },
 "nbformat": 4,
 "nbformat_minor": 5
}
