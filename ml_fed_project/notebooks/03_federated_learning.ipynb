{
 "cells": [
  {
   "cell_type": "code",
   "execution_count": 4,
   "id": "b8fc28f9-263d-468d-b3ba-6a37987b4934",
   "metadata": {},
   "outputs": [],
   "source": [
    "import sys\n",
    "import os\n",
    "\n",
    "# For Jupyter notebooks\n",
    "project_root = os.path.abspath(os.path.join(os.getcwd(), '..'))\n",
    "if project_root not in sys.path:\n",
    "    sys.path.insert(0, project_root)\n",
    "\n",
    "# Import commonly used modules\n",
    "from data_utils import *\n",
    "from model_utils import *\n",
    "from config_utils import load_config\n",
    "\n",
    "# Load default config\n",
    "CONFIG = load_config('../config/fl_template_config.yaml')\n",
    "\n",
    "# Export commonly used items\n",
    "__all__ = ['CONFIG']"
   ]
  },
  {
   "cell_type": "markdown",
   "id": "2bd135af-d3eb-45a2-b93e-80f411e335b5",
   "metadata": {},
   "source": [
    "## FedAvg"
   ]
  },
  {
   "cell_type": "markdown",
   "id": "aa655466-f5d4-4223-807f-e9e0313fb255",
   "metadata": {},
   "source": [
    "### Federated Learning Averaging Pseudocode\n",
    "\n",
    "### Server Initialization:\n",
    "Initialize global model weights W₀\n",
    "\n",
    "### Main Federated Learning Loop:\n",
    "For each round t = 1 to T:\n",
    "    \n",
    "    1. Select a subset of clients Sₜ (or use all available clients)\n",
    "    \n",
    "    2. Broadcast the current global model weights Wₜ to all clients in Sₜ\n",
    "\n",
    "    3. For each client k in Sₜ (executed in parallel):\n",
    "         - Perform a local update:\n",
    "           Wₜᵏ = ClientUpdate(Wₜ, local_dataₖ)\n",
    "         - Return updated local model weights Wₜᵏ along with the number of samples nₖ\n",
    "\n",
    "    4. Aggregate the updated weights using weighted averaging (FedAvg):\n",
    "         - Compute total samples: N = Σₖ₍∈Sₜ₎ nₖ\n",
    "         - Update global model weights:\n",
    "           Wₜ₊₁ = Σₖ₍∈Sₜ₎ (nₖ / N) * Wₜᵏ\n",
    "\n",
    "Return final global model weights W_T\n",
    "\n",
    "### ClientUpdate Function:\n",
    "Function ClientUpdate(W, local_data):\n",
    "    \n",
    "    - Set W_local = W\n",
    "    \n",
    "    - For each local epoch e = 1 to E:\n",
    "         - For each batch b in local_data:\n",
    "              - Compute gradient: grad = ∇(loss(W_local, b))\n",
    "              - Update local weights: W_local = W_local - learning_rate * grad\n",
    "              \n",
    "    Return W_local"
   ]
  },
  {
   "cell_type": "markdown",
   "id": "e7276035-ce5b-41e2-a429-a9c4557b2a82",
   "metadata": {},
   "source": [
    "#### Central Model Initialization"
   ]
  },
  {
   "cell_type": "code",
   "execution_count": 3,
   "id": "b9c36563-db7a-4182-844d-53ca7545e48f",
   "metadata": {},
   "outputs": [],
   "source": [
    "history_dic = {}"
   ]
  },
  {
   "cell_type": "code",
   "execution_count": 7,
   "id": "fd69ae14-952a-402d-8ab0-27920d8c7b5c",
   "metadata": {},
   "outputs": [
    {
     "name": "stdout",
     "output_type": "stream",
     "text": [
      "Epoch 1/10\n",
      "\u001b[1m7/7\u001b[0m \u001b[32m━━━━━━━━━━━━━━━━━━━━\u001b[0m\u001b[37m\u001b[0m \u001b[1m7s\u001b[0m 424ms/step - accuracy: 0.6235 - auc_2: 0.5452 - loss: 1.1168 - precision_2: 0.6877 - recall_2: 0.5327\n",
      "Epoch 2/10\n",
      "\u001b[1m7/7\u001b[0m \u001b[32m━━━━━━━━━━━━━━━━━━━━\u001b[0m\u001b[37m\u001b[0m \u001b[1m0s\u001b[0m 11ms/step - accuracy: 0.6074 - auc_2: 0.8512 - loss: 0.5920 - precision_2: 0.5811 - recall_2: 0.9803\n",
      "Epoch 3/10\n",
      "\u001b[1m7/7\u001b[0m \u001b[32m━━━━━━━━━━━━━━━━━━━━\u001b[0m\u001b[37m\u001b[0m \u001b[1m0s\u001b[0m 17ms/step - accuracy: 0.9090 - auc_2: 0.9576 - loss: 0.3398 - precision_2: 0.8977 - recall_2: 0.9321\n",
      "Epoch 4/10\n",
      "\u001b[1m7/7\u001b[0m \u001b[32m━━━━━━━━━━━━━━━━━━━━\u001b[0m\u001b[37m\u001b[0m \u001b[1m0s\u001b[0m 15ms/step - accuracy: 0.9460 - auc_2: 0.9708 - loss: 0.1787 - precision_2: 0.9927 - recall_2: 0.8993\n",
      "Epoch 5/10\n",
      "\u001b[1m7/7\u001b[0m \u001b[32m━━━━━━━━━━━━━━━━━━━━\u001b[0m\u001b[37m\u001b[0m \u001b[1m0s\u001b[0m 15ms/step - accuracy: 0.9633 - auc_2: 0.9847 - loss: 0.1416 - precision_2: 1.0000 - recall_2: 0.9231\n",
      "Epoch 6/10\n",
      "\u001b[1m7/7\u001b[0m \u001b[32m━━━━━━━━━━━━━━━━━━━━\u001b[0m\u001b[37m\u001b[0m \u001b[1m0s\u001b[0m 11ms/step - accuracy: 0.8807 - auc_2: 0.9584 - loss: 0.3124 - precision_2: 0.8779 - recall_2: 0.9044\n",
      "Epoch 7/10\n",
      "\u001b[1m7/7\u001b[0m \u001b[32m━━━━━━━━━━━━━━━━━━━━\u001b[0m\u001b[37m\u001b[0m \u001b[1m0s\u001b[0m 14ms/step - accuracy: 0.9179 - auc_2: 0.9798 - loss: 0.2133 - precision_2: 0.8785 - recall_2: 0.9736\n",
      "Epoch 8/10\n",
      "\u001b[1m7/7\u001b[0m \u001b[32m━━━━━━━━━━━━━━━━━━━━\u001b[0m\u001b[37m\u001b[0m \u001b[1m0s\u001b[0m 14ms/step - accuracy: 0.9191 - auc_2: 0.9390 - loss: 0.2822 - precision_2: 0.9927 - recall_2: 0.8475\n",
      "Epoch 9/10\n",
      "\u001b[1m7/7\u001b[0m \u001b[32m━━━━━━━━━━━━━━━━━━━━\u001b[0m\u001b[37m\u001b[0m \u001b[1m0s\u001b[0m 15ms/step - accuracy: 0.9317 - auc_2: 0.9917 - loss: 0.1742 - precision_2: 0.8997 - recall_2: 0.9736\n",
      "Epoch 10/10\n",
      "\u001b[1m7/7\u001b[0m \u001b[32m━━━━━━━━━━━━━━━━━━━━\u001b[0m\u001b[37m\u001b[0m \u001b[1m0s\u001b[0m 12ms/step - accuracy: 0.9672 - auc_2: 0.9974 - loss: 0.0689 - precision_2: 1.0000 - recall_2: 0.9299\n",
      "💾 Model saved to: ../experiments/fed_ml_experiment_1/models/central_model.keras\n",
      "🧹 Model removed from memory and GPU session cleared.\n"
     ]
    }
   ],
   "source": [
    "model = create_model()\n",
    "trainx,trainy = load_training_data(f'../experiments/{CONFIG['experiment_name']}/processed_data/init.npy')\n",
    "history =  train_model(model,trainx,trainy)\n",
    "history_dic['init'] = history\n",
    "save_model(model,f'../experiments/{CONFIG['experiment_name']}/models/central_model.keras')\n",
    "clear_model_from_memory(model)"
   ]
  },
  {
   "cell_type": "markdown",
   "id": "3310839d-f271-4020-8163-19e1f2afb120",
   "metadata": {},
   "source": [
    "#### Client Models Initialization"
   ]
  },
  {
   "cell_type": "code",
   "execution_count": 8,
   "id": "96e0ae36-55dd-4d7b-bcfb-6e70de3aff81",
   "metadata": {},
   "outputs": [
    {
     "ename": "InternalError",
     "evalue": "Failed copying input tensor from /job:localhost/replica:0/task:0/device:CPU:0 to /job:localhost/replica:0/task:0/device:GPU:0 in order to run Cast: CUDA error: Error recording CUDA event: CUDA_ERROR_CONTEXT_IS_DESTROYED: context is destroyed [Op:Cast] name: ",
     "output_type": "error",
     "traceback": [
      "\u001b[31m---------------------------------------------------------------------------\u001b[39m",
      "\u001b[31mInternalError\u001b[39m                             Traceback (most recent call last)",
      "\u001b[36mCell\u001b[39m\u001b[36m \u001b[39m\u001b[32mIn[8]\u001b[39m\u001b[32m, line 1\u001b[39m\n\u001b[32m----> \u001b[39m\u001b[32m1\u001b[39m central_model = \u001b[43mload_model_from_disk\u001b[49m\u001b[43m(\u001b[49m\u001b[33;43mf\u001b[39;49m\u001b[33;43m'\u001b[39;49m\u001b[33;43m../experiments/\u001b[39;49m\u001b[38;5;132;43;01m{\u001b[39;49;00m\u001b[43mCONFIG\u001b[49m\u001b[43m[\u001b[49m\u001b[33;43m'\u001b[39;49m\u001b[33;43mexperiment_name\u001b[39;49m\u001b[33;43m'\u001b[39;49m\u001b[43m]\u001b[49m\u001b[38;5;132;43;01m}\u001b[39;49;00m\u001b[33;43m/models/central_model.keras\u001b[39;49m\u001b[33;43m'\u001b[39;49m\u001b[43m)\u001b[49m\n\u001b[32m      2\u001b[39m \u001b[38;5;28;01mfor\u001b[39;00m i \u001b[38;5;129;01min\u001b[39;00m \u001b[38;5;28mrange\u001b[39m(CONFIG.get(\u001b[33m'\u001b[39m\u001b[33mnum_clients\u001b[39m\u001b[33m'\u001b[39m,\u001b[32m5\u001b[39m)):\n\u001b[32m      3\u001b[39m     model = create_model()\n",
      "\u001b[36mFile \u001b[39m\u001b[32m/mnt/c/Users/yashb/Downloads/Yash Gupta Pattern Recognition Project/ml_fed_project/ml_fed_project/model_utils/model_management.py:22\u001b[39m, in \u001b[36mload_model_from_disk\u001b[39m\u001b[34m(path)\u001b[39m\n\u001b[32m     20\u001b[39m \u001b[38;5;28;01mdef\u001b[39;00m\u001b[38;5;250m \u001b[39m\u001b[34mload_model_from_disk\u001b[39m(path):\n\u001b[32m     21\u001b[39m \u001b[38;5;250m    \u001b[39m\u001b[33;03m\"\"\"Loads a model from the given path.\"\"\"\u001b[39;00m\n\u001b[32m---> \u001b[39m\u001b[32m22\u001b[39m     model = \u001b[43mload_model\u001b[49m\u001b[43m(\u001b[49m\u001b[43mpath\u001b[49m\u001b[43m)\u001b[49m\n\u001b[32m     23\u001b[39m     \u001b[38;5;28mprint\u001b[39m(\u001b[33mf\u001b[39m\u001b[33m\"\u001b[39m\u001b[33m📦 Model loaded from: \u001b[39m\u001b[38;5;132;01m{\u001b[39;00mpath\u001b[38;5;132;01m}\u001b[39;00m\u001b[33m\"\u001b[39m)\n\u001b[32m     24\u001b[39m     \u001b[38;5;28;01mreturn\u001b[39;00m model\n",
      "\u001b[36mFile \u001b[39m\u001b[32m~/miniconda3/envs/fedml/lib/python3.12/site-packages/keras/src/saving/saving_api.py:189\u001b[39m, in \u001b[36mload_model\u001b[39m\u001b[34m(filepath, custom_objects, compile, safe_mode)\u001b[39m\n\u001b[32m    186\u001b[39m         is_keras_zip = \u001b[38;5;28;01mTrue\u001b[39;00m\n\u001b[32m    188\u001b[39m \u001b[38;5;28;01mif\u001b[39;00m is_keras_zip \u001b[38;5;129;01mor\u001b[39;00m is_keras_dir \u001b[38;5;129;01mor\u001b[39;00m is_hf:\n\u001b[32m--> \u001b[39m\u001b[32m189\u001b[39m     \u001b[38;5;28;01mreturn\u001b[39;00m \u001b[43msaving_lib\u001b[49m\u001b[43m.\u001b[49m\u001b[43mload_model\u001b[49m\u001b[43m(\u001b[49m\n\u001b[32m    190\u001b[39m \u001b[43m        \u001b[49m\u001b[43mfilepath\u001b[49m\u001b[43m,\u001b[49m\n\u001b[32m    191\u001b[39m \u001b[43m        \u001b[49m\u001b[43mcustom_objects\u001b[49m\u001b[43m=\u001b[49m\u001b[43mcustom_objects\u001b[49m\u001b[43m,\u001b[49m\n\u001b[32m    192\u001b[39m \u001b[43m        \u001b[49m\u001b[38;5;28;43mcompile\u001b[39;49m\u001b[43m=\u001b[49m\u001b[38;5;28;43mcompile\u001b[39;49m\u001b[43m,\u001b[49m\n\u001b[32m    193\u001b[39m \u001b[43m        \u001b[49m\u001b[43msafe_mode\u001b[49m\u001b[43m=\u001b[49m\u001b[43msafe_mode\u001b[49m\u001b[43m,\u001b[49m\n\u001b[32m    194\u001b[39m \u001b[43m    \u001b[49m\u001b[43m)\u001b[49m\n\u001b[32m    195\u001b[39m \u001b[38;5;28;01mif\u001b[39;00m \u001b[38;5;28mstr\u001b[39m(filepath).endswith((\u001b[33m\"\u001b[39m\u001b[33m.h5\u001b[39m\u001b[33m\"\u001b[39m, \u001b[33m\"\u001b[39m\u001b[33m.hdf5\u001b[39m\u001b[33m\"\u001b[39m)):\n\u001b[32m    196\u001b[39m     \u001b[38;5;28;01mreturn\u001b[39;00m legacy_h5_format.load_model_from_hdf5(\n\u001b[32m    197\u001b[39m         filepath, custom_objects=custom_objects, \u001b[38;5;28mcompile\u001b[39m=\u001b[38;5;28mcompile\u001b[39m\n\u001b[32m    198\u001b[39m     )\n",
      "\u001b[36mFile \u001b[39m\u001b[32m~/miniconda3/envs/fedml/lib/python3.12/site-packages/keras/src/saving/saving_lib.py:367\u001b[39m, in \u001b[36mload_model\u001b[39m\u001b[34m(filepath, custom_objects, compile, safe_mode)\u001b[39m\n\u001b[32m    362\u001b[39m     \u001b[38;5;28;01mraise\u001b[39;00m \u001b[38;5;167;01mValueError\u001b[39;00m(\n\u001b[32m    363\u001b[39m         \u001b[33m\"\u001b[39m\u001b[33mInvalid filename: expected a `.keras` extension. \u001b[39m\u001b[33m\"\u001b[39m\n\u001b[32m    364\u001b[39m         \u001b[33mf\u001b[39m\u001b[33m\"\u001b[39m\u001b[33mReceived: filepath=\u001b[39m\u001b[38;5;132;01m{\u001b[39;00mfilepath\u001b[38;5;132;01m}\u001b[39;00m\u001b[33m\"\u001b[39m\n\u001b[32m    365\u001b[39m     )\n\u001b[32m    366\u001b[39m \u001b[38;5;28;01mwith\u001b[39;00m \u001b[38;5;28mopen\u001b[39m(filepath, \u001b[33m\"\u001b[39m\u001b[33mrb\u001b[39m\u001b[33m\"\u001b[39m) \u001b[38;5;28;01mas\u001b[39;00m f:\n\u001b[32m--> \u001b[39m\u001b[32m367\u001b[39m     \u001b[38;5;28;01mreturn\u001b[39;00m \u001b[43m_load_model_from_fileobj\u001b[49m\u001b[43m(\u001b[49m\n\u001b[32m    368\u001b[39m \u001b[43m        \u001b[49m\u001b[43mf\u001b[49m\u001b[43m,\u001b[49m\u001b[43m \u001b[49m\u001b[43mcustom_objects\u001b[49m\u001b[43m,\u001b[49m\u001b[43m \u001b[49m\u001b[38;5;28;43mcompile\u001b[39;49m\u001b[43m,\u001b[49m\u001b[43m \u001b[49m\u001b[43msafe_mode\u001b[49m\n\u001b[32m    369\u001b[39m \u001b[43m    \u001b[49m\u001b[43m)\u001b[49m\n",
      "\u001b[36mFile \u001b[39m\u001b[32m~/miniconda3/envs/fedml/lib/python3.12/site-packages/keras/src/saving/saving_lib.py:444\u001b[39m, in \u001b[36m_load_model_from_fileobj\u001b[39m\u001b[34m(fileobj, custom_objects, compile, safe_mode)\u001b[39m\n\u001b[32m    441\u001b[39m \u001b[38;5;28;01mwith\u001b[39;00m zf.open(_CONFIG_FILENAME, \u001b[33m\"\u001b[39m\u001b[33mr\u001b[39m\u001b[33m\"\u001b[39m) \u001b[38;5;28;01mas\u001b[39;00m f:\n\u001b[32m    442\u001b[39m     config_json = f.read()\n\u001b[32m--> \u001b[39m\u001b[32m444\u001b[39m model = \u001b[43m_model_from_config\u001b[49m\u001b[43m(\u001b[49m\n\u001b[32m    445\u001b[39m \u001b[43m    \u001b[49m\u001b[43mconfig_json\u001b[49m\u001b[43m,\u001b[49m\u001b[43m \u001b[49m\u001b[43mcustom_objects\u001b[49m\u001b[43m,\u001b[49m\u001b[43m \u001b[49m\u001b[38;5;28;43mcompile\u001b[39;49m\u001b[43m,\u001b[49m\u001b[43m \u001b[49m\u001b[43msafe_mode\u001b[49m\n\u001b[32m    446\u001b[39m \u001b[43m\u001b[49m\u001b[43m)\u001b[49m\n\u001b[32m    448\u001b[39m all_filenames = zf.namelist()\n\u001b[32m    449\u001b[39m extract_dir = \u001b[38;5;28;01mNone\u001b[39;00m\n",
      "\u001b[36mFile \u001b[39m\u001b[32m~/miniconda3/envs/fedml/lib/python3.12/site-packages/keras/src/saving/saving_lib.py:433\u001b[39m, in \u001b[36m_model_from_config\u001b[39m\u001b[34m(config_json, custom_objects, compile, safe_mode)\u001b[39m\n\u001b[32m    431\u001b[39m \u001b[38;5;66;03m# Construct the model from the configuration file in the archive.\u001b[39;00m\n\u001b[32m    432\u001b[39m \u001b[38;5;28;01mwith\u001b[39;00m ObjectSharingScope():\n\u001b[32m--> \u001b[39m\u001b[32m433\u001b[39m     model = \u001b[43mdeserialize_keras_object\u001b[49m\u001b[43m(\u001b[49m\n\u001b[32m    434\u001b[39m \u001b[43m        \u001b[49m\u001b[43mconfig_dict\u001b[49m\u001b[43m,\u001b[49m\u001b[43m \u001b[49m\u001b[43mcustom_objects\u001b[49m\u001b[43m,\u001b[49m\u001b[43m \u001b[49m\u001b[43msafe_mode\u001b[49m\u001b[43m=\u001b[49m\u001b[43msafe_mode\u001b[49m\n\u001b[32m    435\u001b[39m \u001b[43m    \u001b[49m\u001b[43m)\u001b[49m\n\u001b[32m    436\u001b[39m \u001b[38;5;28;01mreturn\u001b[39;00m model\n",
      "\u001b[36mFile \u001b[39m\u001b[32m~/miniconda3/envs/fedml/lib/python3.12/site-packages/keras/src/saving/serialization_lib.py:718\u001b[39m, in \u001b[36mdeserialize_keras_object\u001b[39m\u001b[34m(config, custom_objects, safe_mode, **kwargs)\u001b[39m\n\u001b[32m    716\u001b[39m \u001b[38;5;28;01mwith\u001b[39;00m custom_obj_scope, safe_mode_scope:\n\u001b[32m    717\u001b[39m     \u001b[38;5;28;01mtry\u001b[39;00m:\n\u001b[32m--> \u001b[39m\u001b[32m718\u001b[39m         instance = \u001b[38;5;28;43mcls\u001b[39;49m\u001b[43m.\u001b[49m\u001b[43mfrom_config\u001b[49m\u001b[43m(\u001b[49m\u001b[43minner_config\u001b[49m\u001b[43m)\u001b[49m\n\u001b[32m    719\u001b[39m     \u001b[38;5;28;01mexcept\u001b[39;00m \u001b[38;5;167;01mTypeError\u001b[39;00m \u001b[38;5;28;01mas\u001b[39;00m e:\n\u001b[32m    720\u001b[39m         \u001b[38;5;28;01mraise\u001b[39;00m \u001b[38;5;167;01mTypeError\u001b[39;00m(\n\u001b[32m    721\u001b[39m             \u001b[33mf\u001b[39m\u001b[33m\"\u001b[39m\u001b[38;5;132;01m{\u001b[39;00m\u001b[38;5;28mcls\u001b[39m\u001b[38;5;132;01m}\u001b[39;00m\u001b[33m could not be deserialized properly. Please\u001b[39m\u001b[33m\"\u001b[39m\n\u001b[32m    722\u001b[39m             \u001b[33m\"\u001b[39m\u001b[33m ensure that components that are Python object\u001b[39m\u001b[33m\"\u001b[39m\n\u001b[32m   (...)\u001b[39m\u001b[32m    726\u001b[39m             \u001b[33mf\u001b[39m\u001b[33m\"\u001b[39m\u001b[38;5;130;01m\\n\u001b[39;00m\u001b[38;5;130;01m\\n\u001b[39;00m\u001b[33mconfig=\u001b[39m\u001b[38;5;132;01m{\u001b[39;00mconfig\u001b[38;5;132;01m}\u001b[39;00m\u001b[33m.\u001b[39m\u001b[38;5;130;01m\\n\u001b[39;00m\u001b[38;5;130;01m\\n\u001b[39;00m\u001b[33mException encountered: \u001b[39m\u001b[38;5;132;01m{\u001b[39;00me\u001b[38;5;132;01m}\u001b[39;00m\u001b[33m\"\u001b[39m\n\u001b[32m    727\u001b[39m         )\n",
      "\u001b[36mFile \u001b[39m\u001b[32m~/miniconda3/envs/fedml/lib/python3.12/site-packages/keras/src/models/sequential.py:363\u001b[39m, in \u001b[36mSequential.from_config\u001b[39m\u001b[34m(cls, config, custom_objects)\u001b[39m\n\u001b[32m    358\u001b[39m         layer = saving_utils.model_from_config(\n\u001b[32m    359\u001b[39m             layer_config,\n\u001b[32m    360\u001b[39m             custom_objects=custom_objects,\n\u001b[32m    361\u001b[39m         )\n\u001b[32m    362\u001b[39m     \u001b[38;5;28;01melse\u001b[39;00m:\n\u001b[32m--> \u001b[39m\u001b[32m363\u001b[39m         layer = \u001b[43mserialization_lib\u001b[49m\u001b[43m.\u001b[49m\u001b[43mdeserialize_keras_object\u001b[49m\u001b[43m(\u001b[49m\n\u001b[32m    364\u001b[39m \u001b[43m            \u001b[49m\u001b[43mlayer_config\u001b[49m\u001b[43m,\u001b[49m\n\u001b[32m    365\u001b[39m \u001b[43m            \u001b[49m\u001b[43mcustom_objects\u001b[49m\u001b[43m=\u001b[49m\u001b[43mcustom_objects\u001b[49m\u001b[43m,\u001b[49m\n\u001b[32m    366\u001b[39m \u001b[43m        \u001b[49m\u001b[43m)\u001b[49m\n\u001b[32m    367\u001b[39m     model.add(layer)\n\u001b[32m    368\u001b[39m \u001b[38;5;28;01mif\u001b[39;00m (\n\u001b[32m    369\u001b[39m     \u001b[38;5;129;01mnot\u001b[39;00m model._functional\n\u001b[32m    370\u001b[39m     \u001b[38;5;129;01mand\u001b[39;00m \u001b[33m\"\u001b[39m\u001b[33mbuild_input_shape\u001b[39m\u001b[33m\"\u001b[39m \u001b[38;5;129;01min\u001b[39;00m \u001b[38;5;28mlocals\u001b[39m()\n\u001b[32m    371\u001b[39m     \u001b[38;5;129;01mand\u001b[39;00m build_input_shape\n\u001b[32m    372\u001b[39m     \u001b[38;5;129;01mand\u001b[39;00m \u001b[38;5;28misinstance\u001b[39m(build_input_shape, (\u001b[38;5;28mtuple\u001b[39m, \u001b[38;5;28mlist\u001b[39m))\n\u001b[32m    373\u001b[39m ):\n",
      "\u001b[36mFile \u001b[39m\u001b[32m~/miniconda3/envs/fedml/lib/python3.12/site-packages/keras/src/saving/serialization_lib.py:730\u001b[39m, in \u001b[36mdeserialize_keras_object\u001b[39m\u001b[34m(config, custom_objects, safe_mode, **kwargs)\u001b[39m\n\u001b[32m    728\u001b[39m build_config = config.get(\u001b[33m\"\u001b[39m\u001b[33mbuild_config\u001b[39m\u001b[33m\"\u001b[39m, \u001b[38;5;28;01mNone\u001b[39;00m)\n\u001b[32m    729\u001b[39m \u001b[38;5;28;01mif\u001b[39;00m build_config \u001b[38;5;129;01mand\u001b[39;00m \u001b[38;5;129;01mnot\u001b[39;00m instance.built:\n\u001b[32m--> \u001b[39m\u001b[32m730\u001b[39m     \u001b[43minstance\u001b[49m\u001b[43m.\u001b[49m\u001b[43mbuild_from_config\u001b[49m\u001b[43m(\u001b[49m\u001b[43mbuild_config\u001b[49m\u001b[43m)\u001b[49m\n\u001b[32m    731\u001b[39m     instance.built = \u001b[38;5;28;01mTrue\u001b[39;00m\n\u001b[32m    732\u001b[39m compile_config = config.get(\u001b[33m\"\u001b[39m\u001b[33mcompile_config\u001b[39m\u001b[33m\"\u001b[39m, \u001b[38;5;28;01mNone\u001b[39;00m)\n",
      "\u001b[36mFile \u001b[39m\u001b[32m~/miniconda3/envs/fedml/lib/python3.12/site-packages/keras/src/layers/layer.py:455\u001b[39m, in \u001b[36mLayer.build_from_config\u001b[39m\u001b[34m(self, config)\u001b[39m\n\u001b[32m    453\u001b[39m \u001b[38;5;28;01mif\u001b[39;00m config:\n\u001b[32m    454\u001b[39m     \u001b[38;5;28;01mif\u001b[39;00m \u001b[33m\"\u001b[39m\u001b[33minput_shape\u001b[39m\u001b[33m\"\u001b[39m \u001b[38;5;129;01min\u001b[39;00m config:\n\u001b[32m--> \u001b[39m\u001b[32m455\u001b[39m         \u001b[38;5;28;43mself\u001b[39;49m\u001b[43m.\u001b[49m\u001b[43mbuild\u001b[49m\u001b[43m(\u001b[49m\u001b[43mconfig\u001b[49m\u001b[43m[\u001b[49m\u001b[33;43m\"\u001b[39;49m\u001b[33;43minput_shape\u001b[39;49m\u001b[33;43m\"\u001b[39;49m\u001b[43m]\u001b[49m\u001b[43m)\u001b[49m\n\u001b[32m    456\u001b[39m     \u001b[38;5;28;01melif\u001b[39;00m \u001b[33m\"\u001b[39m\u001b[33mshapes_dict\u001b[39m\u001b[33m\"\u001b[39m \u001b[38;5;129;01min\u001b[39;00m config:\n\u001b[32m    457\u001b[39m         \u001b[38;5;28mself\u001b[39m.build(**config[\u001b[33m\"\u001b[39m\u001b[33mshapes_dict\u001b[39m\u001b[33m\"\u001b[39m])\n",
      "\u001b[36mFile \u001b[39m\u001b[32m~/miniconda3/envs/fedml/lib/python3.12/site-packages/keras/src/layers/layer.py:229\u001b[39m, in \u001b[36mLayer.__new__.<locals>.build_wrapper\u001b[39m\u001b[34m(*args, **kwargs)\u001b[39m\n\u001b[32m    227\u001b[39m \u001b[38;5;28;01mwith\u001b[39;00m obj._open_name_scope():\n\u001b[32m    228\u001b[39m     obj._path = current_path()\n\u001b[32m--> \u001b[39m\u001b[32m229\u001b[39m     \u001b[43moriginal_build_method\u001b[49m\u001b[43m(\u001b[49m\u001b[43m*\u001b[49m\u001b[43margs\u001b[49m\u001b[43m,\u001b[49m\u001b[43m \u001b[49m\u001b[43m*\u001b[49m\u001b[43m*\u001b[49m\u001b[43mkwargs\u001b[49m\u001b[43m)\u001b[49m\n\u001b[32m    230\u001b[39m \u001b[38;5;66;03m# Record build config.\u001b[39;00m\n\u001b[32m    231\u001b[39m signature = inspect.signature(original_build_method)\n",
      "\u001b[36mFile \u001b[39m\u001b[32m~/miniconda3/envs/fedml/lib/python3.12/site-packages/keras/src/layers/convolutional/base_conv.py:195\u001b[39m, in \u001b[36mBaseConv.build\u001b[39m\u001b[34m(self, input_shape)\u001b[39m\n\u001b[32m    191\u001b[39m \u001b[38;5;66;03m# compute_output_shape contains some validation logic for the input\u001b[39;00m\n\u001b[32m    192\u001b[39m \u001b[38;5;66;03m# shape, and make sure the output shape has all positive dimensions.\u001b[39;00m\n\u001b[32m    193\u001b[39m \u001b[38;5;28mself\u001b[39m.compute_output_shape(input_shape)\n\u001b[32m--> \u001b[39m\u001b[32m195\u001b[39m \u001b[38;5;28mself\u001b[39m._kernel = \u001b[38;5;28;43mself\u001b[39;49m\u001b[43m.\u001b[49m\u001b[43madd_weight\u001b[49m\u001b[43m(\u001b[49m\n\u001b[32m    196\u001b[39m \u001b[43m    \u001b[49m\u001b[43mname\u001b[49m\u001b[43m=\u001b[49m\u001b[33;43m\"\u001b[39;49m\u001b[33;43mkernel\u001b[39;49m\u001b[33;43m\"\u001b[39;49m\u001b[43m,\u001b[49m\n\u001b[32m    197\u001b[39m \u001b[43m    \u001b[49m\u001b[43mshape\u001b[49m\u001b[43m=\u001b[49m\u001b[43mkernel_shape\u001b[49m\u001b[43m,\u001b[49m\n\u001b[32m    198\u001b[39m \u001b[43m    \u001b[49m\u001b[43minitializer\u001b[49m\u001b[43m=\u001b[49m\u001b[38;5;28;43mself\u001b[39;49m\u001b[43m.\u001b[49m\u001b[43mkernel_initializer\u001b[49m\u001b[43m,\u001b[49m\n\u001b[32m    199\u001b[39m \u001b[43m    \u001b[49m\u001b[43mregularizer\u001b[49m\u001b[43m=\u001b[49m\u001b[38;5;28;43mself\u001b[39;49m\u001b[43m.\u001b[49m\u001b[43mkernel_regularizer\u001b[49m\u001b[43m,\u001b[49m\n\u001b[32m    200\u001b[39m \u001b[43m    \u001b[49m\u001b[43mconstraint\u001b[49m\u001b[43m=\u001b[49m\u001b[38;5;28;43mself\u001b[39;49m\u001b[43m.\u001b[49m\u001b[43mkernel_constraint\u001b[49m\u001b[43m,\u001b[49m\n\u001b[32m    201\u001b[39m \u001b[43m    \u001b[49m\u001b[43mtrainable\u001b[49m\u001b[43m=\u001b[49m\u001b[38;5;28;43;01mTrue\u001b[39;49;00m\u001b[43m,\u001b[49m\n\u001b[32m    202\u001b[39m \u001b[43m    \u001b[49m\u001b[43mdtype\u001b[49m\u001b[43m=\u001b[49m\u001b[38;5;28;43mself\u001b[39;49m\u001b[43m.\u001b[49m\u001b[43mdtype\u001b[49m\u001b[43m,\u001b[49m\n\u001b[32m    203\u001b[39m \u001b[43m\u001b[49m\u001b[43m)\u001b[49m\n\u001b[32m    204\u001b[39m \u001b[38;5;28;01mif\u001b[39;00m \u001b[38;5;28mself\u001b[39m.use_bias:\n\u001b[32m    205\u001b[39m     \u001b[38;5;28mself\u001b[39m.bias = \u001b[38;5;28mself\u001b[39m.add_weight(\n\u001b[32m    206\u001b[39m         name=\u001b[33m\"\u001b[39m\u001b[33mbias\u001b[39m\u001b[33m\"\u001b[39m,\n\u001b[32m    207\u001b[39m         shape=(\u001b[38;5;28mself\u001b[39m.filters,),\n\u001b[32m   (...)\u001b[39m\u001b[32m    212\u001b[39m         dtype=\u001b[38;5;28mself\u001b[39m.dtype,\n\u001b[32m    213\u001b[39m     )\n",
      "\u001b[36mFile \u001b[39m\u001b[32m~/miniconda3/envs/fedml/lib/python3.12/site-packages/keras/src/layers/layer.py:546\u001b[39m, in \u001b[36mLayer.add_weight\u001b[39m\u001b[34m(self, shape, initializer, dtype, trainable, autocast, regularizer, constraint, aggregation, name)\u001b[39m\n\u001b[32m    544\u001b[39m initializer = initializers.get(initializer)\n\u001b[32m    545\u001b[39m \u001b[38;5;28;01mwith\u001b[39;00m backend.name_scope(\u001b[38;5;28mself\u001b[39m.name, caller=\u001b[38;5;28mself\u001b[39m):\n\u001b[32m--> \u001b[39m\u001b[32m546\u001b[39m     variable = \u001b[43mbackend\u001b[49m\u001b[43m.\u001b[49m\u001b[43mVariable\u001b[49m\u001b[43m(\u001b[49m\n\u001b[32m    547\u001b[39m \u001b[43m        \u001b[49m\u001b[43minitializer\u001b[49m\u001b[43m=\u001b[49m\u001b[43minitializer\u001b[49m\u001b[43m,\u001b[49m\n\u001b[32m    548\u001b[39m \u001b[43m        \u001b[49m\u001b[43mshape\u001b[49m\u001b[43m=\u001b[49m\u001b[43mshape\u001b[49m\u001b[43m,\u001b[49m\n\u001b[32m    549\u001b[39m \u001b[43m        \u001b[49m\u001b[43mdtype\u001b[49m\u001b[43m=\u001b[49m\u001b[43mdtype\u001b[49m\u001b[43m,\u001b[49m\n\u001b[32m    550\u001b[39m \u001b[43m        \u001b[49m\u001b[43mtrainable\u001b[49m\u001b[43m=\u001b[49m\u001b[43mtrainable\u001b[49m\u001b[43m,\u001b[49m\n\u001b[32m    551\u001b[39m \u001b[43m        \u001b[49m\u001b[43mautocast\u001b[49m\u001b[43m=\u001b[49m\u001b[43mautocast\u001b[49m\u001b[43m,\u001b[49m\n\u001b[32m    552\u001b[39m \u001b[43m        \u001b[49m\u001b[43maggregation\u001b[49m\u001b[43m=\u001b[49m\u001b[43maggregation\u001b[49m\u001b[43m,\u001b[49m\n\u001b[32m    553\u001b[39m \u001b[43m        \u001b[49m\u001b[43mname\u001b[49m\u001b[43m=\u001b[49m\u001b[43mname\u001b[49m\u001b[43m,\u001b[49m\n\u001b[32m    554\u001b[39m \u001b[43m    \u001b[49m\u001b[43m)\u001b[49m\n\u001b[32m    555\u001b[39m \u001b[38;5;66;03m# Will be added to layer.losses\u001b[39;00m\n\u001b[32m    556\u001b[39m variable.regularizer = regularizers.get(regularizer)\n",
      "\u001b[36mFile \u001b[39m\u001b[32m~/miniconda3/envs/fedml/lib/python3.12/site-packages/keras/src/backend/common/variables.py:186\u001b[39m, in \u001b[36mVariable.__init__\u001b[39m\u001b[34m(self, initializer, shape, dtype, trainable, autocast, aggregation, name)\u001b[39m\n\u001b[32m    184\u001b[39m \u001b[38;5;28;01mif\u001b[39;00m \u001b[38;5;28mcallable\u001b[39m(initializer):\n\u001b[32m    185\u001b[39m     \u001b[38;5;28mself\u001b[39m._shape = \u001b[38;5;28mself\u001b[39m._validate_shape(shape)\n\u001b[32m--> \u001b[39m\u001b[32m186\u001b[39m     \u001b[38;5;28;43mself\u001b[39;49m\u001b[43m.\u001b[49m\u001b[43m_initialize_with_initializer\u001b[49m\u001b[43m(\u001b[49m\u001b[43minitializer\u001b[49m\u001b[43m)\u001b[49m\n\u001b[32m    187\u001b[39m \u001b[38;5;28;01melse\u001b[39;00m:\n\u001b[32m    188\u001b[39m     \u001b[38;5;28mself\u001b[39m._initialize(initializer)\n",
      "\u001b[36mFile \u001b[39m\u001b[32m~/miniconda3/envs/fedml/lib/python3.12/site-packages/keras/src/backend/tensorflow/core.py:48\u001b[39m, in \u001b[36mVariable._initialize_with_initializer\u001b[39m\u001b[34m(self, initializer)\u001b[39m\n\u001b[32m     47\u001b[39m \u001b[38;5;28;01mdef\u001b[39;00m\u001b[38;5;250m \u001b[39m\u001b[34m_initialize_with_initializer\u001b[39m(\u001b[38;5;28mself\u001b[39m, initializer):\n\u001b[32m---> \u001b[39m\u001b[32m48\u001b[39m     \u001b[38;5;28;43mself\u001b[39;49m\u001b[43m.\u001b[49m\u001b[43m_initialize\u001b[49m\u001b[43m(\u001b[49m\u001b[38;5;28;43;01mlambda\u001b[39;49;00m\u001b[43m:\u001b[49m\u001b[43m \u001b[49m\u001b[43minitializer\u001b[49m\u001b[43m(\u001b[49m\u001b[38;5;28;43mself\u001b[39;49m\u001b[43m.\u001b[49m\u001b[43m_shape\u001b[49m\u001b[43m,\u001b[49m\u001b[43m \u001b[49m\u001b[43mdtype\u001b[49m\u001b[43m=\u001b[49m\u001b[38;5;28;43mself\u001b[39;49m\u001b[43m.\u001b[49m\u001b[43m_dtype\u001b[49m\u001b[43m)\u001b[49m\u001b[43m)\u001b[49m\n",
      "\u001b[36mFile \u001b[39m\u001b[32m~/miniconda3/envs/fedml/lib/python3.12/site-packages/keras/src/backend/tensorflow/core.py:39\u001b[39m, in \u001b[36mVariable._initialize\u001b[39m\u001b[34m(self, value)\u001b[39m\n\u001b[32m     38\u001b[39m \u001b[38;5;28;01mdef\u001b[39;00m\u001b[38;5;250m \u001b[39m\u001b[34m_initialize\u001b[39m(\u001b[38;5;28mself\u001b[39m, value):\n\u001b[32m---> \u001b[39m\u001b[32m39\u001b[39m     \u001b[38;5;28mself\u001b[39m._value = \u001b[43mtf\u001b[49m\u001b[43m.\u001b[49m\u001b[43mVariable\u001b[49m\u001b[43m(\u001b[49m\n\u001b[32m     40\u001b[39m \u001b[43m        \u001b[49m\u001b[43mvalue\u001b[49m\u001b[43m,\u001b[49m\n\u001b[32m     41\u001b[39m \u001b[43m        \u001b[49m\u001b[43mdtype\u001b[49m\u001b[43m=\u001b[49m\u001b[38;5;28;43mself\u001b[39;49m\u001b[43m.\u001b[49m\u001b[43m_dtype\u001b[49m\u001b[43m,\u001b[49m\n\u001b[32m     42\u001b[39m \u001b[43m        \u001b[49m\u001b[43mtrainable\u001b[49m\u001b[43m=\u001b[49m\u001b[38;5;28;43mself\u001b[39;49m\u001b[43m.\u001b[49m\u001b[43mtrainable\u001b[49m\u001b[43m,\u001b[49m\n\u001b[32m     43\u001b[39m \u001b[43m        \u001b[49m\u001b[43mname\u001b[49m\u001b[43m=\u001b[49m\u001b[38;5;28;43mself\u001b[39;49m\u001b[43m.\u001b[49m\u001b[43mname\u001b[49m\u001b[43m,\u001b[49m\n\u001b[32m     44\u001b[39m \u001b[43m        \u001b[49m\u001b[43maggregation\u001b[49m\u001b[43m=\u001b[49m\u001b[38;5;28;43mself\u001b[39;49m\u001b[43m.\u001b[49m\u001b[43m_map_aggregation\u001b[49m\u001b[43m(\u001b[49m\u001b[38;5;28;43mself\u001b[39;49m\u001b[43m.\u001b[49m\u001b[43maggregation\u001b[49m\u001b[43m)\u001b[49m\u001b[43m,\u001b[49m\n\u001b[32m     45\u001b[39m \u001b[43m    \u001b[49m\u001b[43m)\u001b[49m\n",
      "\u001b[36mFile \u001b[39m\u001b[32m~/miniconda3/envs/fedml/lib/python3.12/site-packages/tensorflow/python/util/traceback_utils.py:153\u001b[39m, in \u001b[36mfilter_traceback.<locals>.error_handler\u001b[39m\u001b[34m(*args, **kwargs)\u001b[39m\n\u001b[32m    151\u001b[39m \u001b[38;5;28;01mexcept\u001b[39;00m \u001b[38;5;167;01mException\u001b[39;00m \u001b[38;5;28;01mas\u001b[39;00m e:\n\u001b[32m    152\u001b[39m   filtered_tb = _process_traceback_frames(e.__traceback__)\n\u001b[32m--> \u001b[39m\u001b[32m153\u001b[39m   \u001b[38;5;28;01mraise\u001b[39;00m e.with_traceback(filtered_tb) \u001b[38;5;28;01mfrom\u001b[39;00m\u001b[38;5;250m \u001b[39m\u001b[38;5;28;01mNone\u001b[39;00m\n\u001b[32m    154\u001b[39m \u001b[38;5;28;01mfinally\u001b[39;00m:\n\u001b[32m    155\u001b[39m   \u001b[38;5;28;01mdel\u001b[39;00m filtered_tb\n",
      "\u001b[36mFile \u001b[39m\u001b[32m~/miniconda3/envs/fedml/lib/python3.12/site-packages/keras/src/backend/tensorflow/core.py:48\u001b[39m, in \u001b[36mVariable._initialize_with_initializer.<locals>.<lambda>\u001b[39m\u001b[34m()\u001b[39m\n\u001b[32m     47\u001b[39m \u001b[38;5;28;01mdef\u001b[39;00m\u001b[38;5;250m \u001b[39m\u001b[34m_initialize_with_initializer\u001b[39m(\u001b[38;5;28mself\u001b[39m, initializer):\n\u001b[32m---> \u001b[39m\u001b[32m48\u001b[39m     \u001b[38;5;28mself\u001b[39m._initialize(\u001b[38;5;28;01mlambda\u001b[39;00m: \u001b[43minitializer\u001b[49m\u001b[43m(\u001b[49m\u001b[38;5;28;43mself\u001b[39;49m\u001b[43m.\u001b[49m\u001b[43m_shape\u001b[49m\u001b[43m,\u001b[49m\u001b[43m \u001b[49m\u001b[43mdtype\u001b[49m\u001b[43m=\u001b[49m\u001b[38;5;28;43mself\u001b[39;49m\u001b[43m.\u001b[49m\u001b[43m_dtype\u001b[49m\u001b[43m)\u001b[49m)\n",
      "\u001b[36mFile \u001b[39m\u001b[32m~/miniconda3/envs/fedml/lib/python3.12/site-packages/keras/src/initializers/random_initializers.py:306\u001b[39m, in \u001b[36mVarianceScaling.__call__\u001b[39m\u001b[34m(self, shape, dtype)\u001b[39m\n\u001b[32m    304\u001b[39m \u001b[38;5;28;01melse\u001b[39;00m:\n\u001b[32m    305\u001b[39m     limit = math.sqrt(\u001b[32m3.0\u001b[39m * scale)\n\u001b[32m--> \u001b[39m\u001b[32m306\u001b[39m     \u001b[38;5;28;01mreturn\u001b[39;00m \u001b[43mrandom\u001b[49m\u001b[43m.\u001b[49m\u001b[43muniform\u001b[49m\u001b[43m(\u001b[49m\n\u001b[32m    307\u001b[39m \u001b[43m        \u001b[49m\u001b[43mshape\u001b[49m\u001b[43m,\u001b[49m\u001b[43m \u001b[49m\u001b[43mminval\u001b[49m\u001b[43m=\u001b[49m\u001b[43m-\u001b[49m\u001b[43mlimit\u001b[49m\u001b[43m,\u001b[49m\u001b[43m \u001b[49m\u001b[43mmaxval\u001b[49m\u001b[43m=\u001b[49m\u001b[43mlimit\u001b[49m\u001b[43m,\u001b[49m\u001b[43m \u001b[49m\u001b[43mdtype\u001b[49m\u001b[43m=\u001b[49m\u001b[43mdtype\u001b[49m\u001b[43m,\u001b[49m\u001b[43m \u001b[49m\u001b[43mseed\u001b[49m\u001b[43m=\u001b[49m\u001b[38;5;28;43mself\u001b[39;49m\u001b[43m.\u001b[49m\u001b[43mseed\u001b[49m\n\u001b[32m    308\u001b[39m \u001b[43m    \u001b[49m\u001b[43m)\u001b[49m\n",
      "\u001b[36mFile \u001b[39m\u001b[32m~/miniconda3/envs/fedml/lib/python3.12/site-packages/keras/src/backend/tensorflow/random.py:33\u001b[39m, in \u001b[36muniform\u001b[39m\u001b[34m(shape, minval, maxval, dtype, seed)\u001b[39m\n\u001b[32m     31\u001b[39m \u001b[38;5;28;01mdef\u001b[39;00m\u001b[38;5;250m \u001b[39m\u001b[34muniform\u001b[39m(shape, minval=\u001b[32m0.0\u001b[39m, maxval=\u001b[32m1.0\u001b[39m, dtype=\u001b[38;5;28;01mNone\u001b[39;00m, seed=\u001b[38;5;28;01mNone\u001b[39;00m):\n\u001b[32m     32\u001b[39m     dtype = dtype \u001b[38;5;129;01mor\u001b[39;00m floatx()\n\u001b[32m---> \u001b[39m\u001b[32m33\u001b[39m     seed = _cast_seed(\u001b[43mdraw_seed\u001b[49m\u001b[43m(\u001b[49m\u001b[43mseed\u001b[49m\u001b[43m)\u001b[49m)\n\u001b[32m     34\u001b[39m     \u001b[38;5;28;01mreturn\u001b[39;00m tf.random.stateless_uniform(\n\u001b[32m     35\u001b[39m         shape=shape,\n\u001b[32m     36\u001b[39m         minval=tf.cast(minval, dtype),\n\u001b[32m   (...)\u001b[39m\u001b[32m     39\u001b[39m         seed=seed,\n\u001b[32m     40\u001b[39m     )\n",
      "\u001b[36mFile \u001b[39m\u001b[32m~/miniconda3/envs/fedml/lib/python3.12/site-packages/keras/src/random/seed_generator.py:154\u001b[39m, in \u001b[36mdraw_seed\u001b[39m\u001b[34m(seed)\u001b[39m\n\u001b[32m    152\u001b[39m     \u001b[38;5;28;01mreturn\u001b[39;00m seed.next()\n\u001b[32m    153\u001b[39m \u001b[38;5;28;01melif\u001b[39;00m \u001b[38;5;28misinstance\u001b[39m(seed, \u001b[38;5;28mint\u001b[39m):\n\u001b[32m--> \u001b[39m\u001b[32m154\u001b[39m     \u001b[38;5;28;01mreturn\u001b[39;00m \u001b[43mconvert_to_tensor\u001b[49m\u001b[43m(\u001b[49m\u001b[43m[\u001b[49m\u001b[43mseed\u001b[49m\u001b[43m,\u001b[49m\u001b[43m \u001b[49m\u001b[32;43m0\u001b[39;49m\u001b[43m]\u001b[49m\u001b[43m,\u001b[49m\u001b[43m \u001b[49m\u001b[43mdtype\u001b[49m\u001b[43m=\u001b[49m\u001b[43mrandom_seed_dtype\u001b[49m\u001b[43m(\u001b[49m\u001b[43m)\u001b[49m\u001b[43m)\u001b[49m\n\u001b[32m    155\u001b[39m \u001b[38;5;28;01melif\u001b[39;00m seed \u001b[38;5;129;01mis\u001b[39;00m \u001b[38;5;28;01mNone\u001b[39;00m:\n\u001b[32m    156\u001b[39m     \u001b[38;5;28;01mreturn\u001b[39;00m global_seed_generator().next(ordered=\u001b[38;5;28;01mFalse\u001b[39;00m)\n",
      "\u001b[36mFile \u001b[39m\u001b[32m~/miniconda3/envs/fedml/lib/python3.12/site-packages/keras/src/backend/tensorflow/core.py:139\u001b[39m, in \u001b[36mconvert_to_tensor\u001b[39m\u001b[34m(x, dtype, sparse, ragged)\u001b[39m\n\u001b[32m    134\u001b[39m     \u001b[38;5;28;01mif\u001b[39;00m dtype == \u001b[33m\"\u001b[39m\u001b[33mbool\u001b[39m\u001b[33m\"\u001b[39m \u001b[38;5;129;01mor\u001b[39;00m is_int_dtype(dtype):\n\u001b[32m    135\u001b[39m         \u001b[38;5;66;03m# TensorFlow conversion is stricter than other backends, it does not\u001b[39;00m\n\u001b[32m    136\u001b[39m         \u001b[38;5;66;03m# allow ints for bools or floats for ints. We convert without dtype\u001b[39;00m\n\u001b[32m    137\u001b[39m         \u001b[38;5;66;03m# and cast instead.\u001b[39;00m\n\u001b[32m    138\u001b[39m         x = tf.convert_to_tensor(x)\n\u001b[32m--> \u001b[39m\u001b[32m139\u001b[39m         \u001b[38;5;28;01mreturn\u001b[39;00m \u001b[43mtf\u001b[49m\u001b[43m.\u001b[49m\u001b[43mcast\u001b[49m\u001b[43m(\u001b[49m\u001b[43mx\u001b[49m\u001b[43m,\u001b[49m\u001b[43m \u001b[49m\u001b[43mdtype\u001b[49m\u001b[43m)\u001b[49m\n\u001b[32m    140\u001b[39m     \u001b[38;5;28;01mreturn\u001b[39;00m tf.convert_to_tensor(x, dtype=dtype)\n\u001b[32m    141\u001b[39m \u001b[38;5;28;01melif\u001b[39;00m dtype \u001b[38;5;129;01mis\u001b[39;00m \u001b[38;5;129;01mnot\u001b[39;00m \u001b[38;5;28;01mNone\u001b[39;00m \u001b[38;5;129;01mand\u001b[39;00m \u001b[38;5;129;01mnot\u001b[39;00m x.dtype == dtype:\n",
      "\u001b[31mInternalError\u001b[39m: Failed copying input tensor from /job:localhost/replica:0/task:0/device:CPU:0 to /job:localhost/replica:0/task:0/device:GPU:0 in order to run Cast: CUDA error: Error recording CUDA event: CUDA_ERROR_CONTEXT_IS_DESTROYED: context is destroyed [Op:Cast] name: "
     ]
    }
   ],
   "source": [
    "central_model = load_model_from_disk(f'../experiments/{CONFIG['experiment_name']}/models/central_model.keras')\n",
    "for i in range(CONFIG.get('num_clients',5)):\n",
    "    model = create_model()\n",
    "    model.set_weights(central_model.get_weights())\n",
    "    model._name = f'client_model_{i+1}'\n",
    "    save_model(model,f'../experiments/{CONFIG['experiment_name']}/models/{model._name}.keras')\n",
    "    clear_model_from_memory(model)"
   ]
  },
  {
   "cell_type": "markdown",
   "id": "dc31dfff-d15f-48e2-8654-13f0ef91172c",
   "metadata": {
    "jp-MarkdownHeadingCollapsed": true
   },
   "source": [
    "## FedAvg Conditioned"
   ]
  },
  {
   "cell_type": "markdown",
   "id": "7988cea4-dd7a-41a2-a711-227a409e8094",
   "metadata": {},
   "source": [
    "### Modified FedAvg with Performance-based Weighting\n",
    "\n",
    "### Server Initialization:\n",
    "Initialize global model weights W₀\n",
    "\n",
    "### Main Federated Learning Loop:\n",
    "\n",
    "For each round t = 1 to T:\n",
    "\n",
    "    1. Select a subset of clients Sₜ (or use all available clients)\n",
    "    2. Broadcast the current global model weights Wₜ to all clients in Sₜ\n",
    "\n",
    "    3. For each client k in Sₜ (executed in parallel):\n",
    "         - Perform a local update:\n",
    "           Wₜᵏ = ClientUpdate(Wₜ, local_dataₖ)\n",
    "         - Evaluate the updated model on a common validation set:\n",
    "           aₖ = Evaluate(Wₜᵏ, validation_set)  # e.g., accuracy\n",
    "         - Return updated model Wₜᵏ, number of samples nₖ, and accuracy aₖ\n",
    "\n",
    "    4. Aggregate the updated weights:\n",
    "         - Compute the performance-weighted sum of samples:\n",
    "           Total_weight = Σₖ₍∈Sₜ₎ (nₖ × aₖ)\n",
    "         - Update global model weights:\n",
    "           Wₜ₊₁ = Σₖ₍∈Sₜ₎ [(nₖ × aₖ) / Total_weight] × Wₜᵏ\n",
    "\n",
    "Return final global model weights W_T\n",
    "\n",
    "### ClientUpdate Function:\n",
    "\n",
    "Function ClientUpdate(W, local_data):\n",
    "    \n",
    "    Set W_local = W\n",
    "    For each local epoch e = 1 to E:\n",
    "         For each batch b in local_data:\n",
    "              - Compute gradient: grad = ∇(loss(W_local, b))\n",
    "              - Update local weights: W_local = W_local - learning_rate * grad\n",
    "    Return W_local\n"
   ]
  },
  {
   "cell_type": "markdown",
   "id": "31356d21-8a4a-441d-a64a-cfff1fdcae51",
   "metadata": {
    "jp-MarkdownHeadingCollapsed": true
   },
   "source": [
    "## Asynchronous Weight Updating Federated Learning"
   ]
  },
  {
   "cell_type": "markdown",
   "id": "1f33ca41-ee95-4c42-9fa3-ed6f7bfa0897",
   "metadata": {},
   "source": [
    "### Federated Learning with Partial Weight Sharing (Deep Layers Updated Frequently)\n",
    "\n",
    "### Server Initialization:\n",
    "Initialize global shallow weights W_shallow₀\n",
    "Initialize global deep weights W_deep₀\n",
    "Set shallow_update_interval K  # e.g., update shallow layers every K rounds, update deep layers every round\n",
    "\n",
    "### Main Federated Learning Loop:\n",
    "\n",
    "For each round t = 1 to T:\n",
    "\n",
    "    1. Determine if this is a shallow update round:\n",
    "         If (t mod K == 0):\n",
    "             shallow_update = True\n",
    "         Else:\n",
    "             shallow_update = False\n",
    "\n",
    "    2. Client Selection & Broadcast:\n",
    "         Select a subset of clients Sₜ\n",
    "         For each client in Sₜ, send:\n",
    "             - Current deep weights: W_deepₜ  (always sent)\n",
    "             - If shallow_update is True, also send current shallow weights: W_shallowₜ\n",
    "             - Otherwise, clients use their locally stored shallow weights\n",
    "\n",
    "    3. Clients' Local Update (executed in parallel):\n",
    "         For each client k in Sₜ:\n",
    "             - If shallow_update is True:\n",
    "                  (W_shallowₜ^k, W_deepₜ^k) = ClientUpdate(W_shallowₜ, W_deepₜ, local_dataₖ, update_shallow=True)\n",
    "             - Else:\n",
    "                  (W_shallow_local, W_deepₜ^k) = ClientUpdate(W_shallow_local, W_deepₜ, local_dataₖ, update_shallow=False)\n",
    "             - Evaluate the full updated model on a common validation set:\n",
    "                  aₖ = Evaluate(FullModel(W_shallow, W_deep), validation_set)  # e.g., accuracy\n",
    "             - Return to server:\n",
    "                  - For shallow layers: if update_shallow is True, return updated W_shallowₜ^k; otherwise, no update (or the previous version)\n",
    "                  - Updated deep weights: W_deepₜ^k\n",
    "                  - Local sample count nₖ and performance metric aₖ\n",
    "\n",
    "    4. Server Aggregation:\n",
    "         # Always aggregate deep layers:\n",
    "         Compute Total_weight_deep = Σₖ₍∈Sₜ₎ (nₖ × aₖ)\n",
    "         Update global deep weights:\n",
    "             W_deepₜ₊₁ = Σₖ₍∈Sₜ₎ [ (nₖ × aₖ) / Total_weight_deep ] × W_deepₜ^k\n",
    "\n",
    "         # Aggregate shallow layers only on shallow update rounds:\n",
    "         If shallow_update is True:\n",
    "             Compute Total_weight_shallow = Σₖ₍∈Sₜ₎ (nₖ × aₖ)\n",
    "             Update global shallow weights:\n",
    "                 W_shallowₜ₊₁ = Σₖ₍∈Sₜ₎ [ (nₖ × aₖ) / Total_weight_shallow ] × W_shallowₜ^k\n",
    "         Else:\n",
    "             W_shallowₜ₊₁ = W_shallowₜ  # Keep shallow layers unchanged\n",
    "\n",
    "    Return final global model: {W_shallow_T, W_deep_T}\n",
    "\n",
    "\n",
    "### ClientUpdate Function:\n",
    "\n",
    "Function ClientUpdate(shallow_weights, deep_weights, local_data, update_shallow):\n",
    "\n",
    "    If update_shallow is True:\n",
    "         Set local_shallow = shallow_weights    # Received from server\n",
    "    Else:\n",
    "         Set local_shallow = local_shallow      # Use previously stored shallow weights locally\n",
    "\n",
    "    Set local_deep = deep_weights              # Always use the latest deep weights from server\n",
    "\n",
    "    For each local epoch e = 1 to E:\n",
    "         For each batch b in local_data:\n",
    "              If update_shallow is True:\n",
    "                  - Compute gradients for both layers:\n",
    "                        grad_shallow, grad_deep = ∇(loss(FullModel(local_shallow, local_deep), b))\n",
    "                  - Update shallow layers:\n",
    "                        local_shallow = local_shallow - learning_rate * grad_shallow\n",
    "              Else:\n",
    "                  - Compute gradient only for deep layers (shallow remains fixed):\n",
    "                        grad_deep = ∇(loss(FullModel(local_shallow, local_deep), b))\n",
    "              - Update deep layers:\n",
    "                    local_deep = local_deep - learning_rate * grad_deep\n",
    "\n",
    "    If update_shallow is True:\n",
    "         Return (local_shallow, local_deep)\n",
    "    Else:\n",
    "         Return (local_shallow, local_deep)  # Note: shallow remains unchanged from before the round\n"
   ]
  }
 ],
 "metadata": {
  "kernelspec": {
   "display_name": "Python 3 (ipykernel)",
   "language": "python",
   "name": "python3"
  },
  "language_info": {
   "codemirror_mode": {
    "name": "ipython",
    "version": 3
   },
   "file_extension": ".py",
   "mimetype": "text/x-python",
   "name": "python",
   "nbconvert_exporter": "python",
   "pygments_lexer": "ipython3",
   "version": "3.12.9"
  }
 },
 "nbformat": 4,
 "nbformat_minor": 5
}
