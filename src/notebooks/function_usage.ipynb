{
 "cells": [
  {
   "cell_type": "code",
   "execution_count": 2,
   "id": "f97d2331-ea1e-4068-9a73-e85f18486af0",
   "metadata": {},
   "outputs": [],
   "source": [
    "import sys\n",
    "import os\n",
    "\n",
    "# For Jupyter notebooks\n",
    "project_root = os.path.abspath(os.path.join(os.getcwd(), '..'))\n",
    "if project_root not in sys.path:\n",
    "    sys.path.insert(0, project_root)"
   ]
  },
  {
   "cell_type": "code",
   "execution_count": 3,
   "id": "9759ad62-a996-4462-b285-d679cceb29f4",
   "metadata": {},
   "outputs": [],
   "source": [
    "from data_utils import create_image_dataframe"
   ]
  },
  {
   "cell_type": "code",
   "execution_count": 6,
   "id": "ee37e4a7-0e06-43fc-9856-482326582e23",
   "metadata": {},
   "outputs": [
    {
     "name": "stdout",
     "output_type": "stream",
     "text": [
      "/mnt/c/Users/yashb/Downloads/Yash Gupta Pattern Recognition Project/ml_fed_project/ml_fed_project/data/facemask_dataset/train\n"
     ]
    },
    {
     "data": {
      "text/html": [
       "<div>\n",
       "<style scoped>\n",
       "    .dataframe tbody tr th:only-of-type {\n",
       "        vertical-align: middle;\n",
       "    }\n",
       "\n",
       "    .dataframe tbody tr th {\n",
       "        vertical-align: top;\n",
       "    }\n",
       "\n",
       "    .dataframe thead th {\n",
       "        text-align: right;\n",
       "    }\n",
       "</style>\n",
       "<table border=\"1\" class=\"dataframe\">\n",
       "  <thead>\n",
       "    <tr style=\"text-align: right;\">\n",
       "      <th></th>\n",
       "      <th>filepath</th>\n",
       "      <th>label</th>\n",
       "    </tr>\n",
       "  </thead>\n",
       "  <tbody>\n",
       "    <tr>\n",
       "      <th>0</th>\n",
       "      <td>/mnt/c/Users/yashb/Downloads/Yash Gupta Patter...</td>\n",
       "      <td>no_mask</td>\n",
       "    </tr>\n",
       "    <tr>\n",
       "      <th>1</th>\n",
       "      <td>/mnt/c/Users/yashb/Downloads/Yash Gupta Patter...</td>\n",
       "      <td>mask</td>\n",
       "    </tr>\n",
       "    <tr>\n",
       "      <th>2</th>\n",
       "      <td>/mnt/c/Users/yashb/Downloads/Yash Gupta Patter...</td>\n",
       "      <td>no_mask</td>\n",
       "    </tr>\n",
       "    <tr>\n",
       "      <th>3</th>\n",
       "      <td>/mnt/c/Users/yashb/Downloads/Yash Gupta Patter...</td>\n",
       "      <td>no_mask</td>\n",
       "    </tr>\n",
       "    <tr>\n",
       "      <th>4</th>\n",
       "      <td>/mnt/c/Users/yashb/Downloads/Yash Gupta Patter...</td>\n",
       "      <td>mask</td>\n",
       "    </tr>\n",
       "    <tr>\n",
       "      <th>...</th>\n",
       "      <td>...</td>\n",
       "      <td>...</td>\n",
       "    </tr>\n",
       "    <tr>\n",
       "      <th>5983</th>\n",
       "      <td>/mnt/c/Users/yashb/Downloads/Yash Gupta Patter...</td>\n",
       "      <td>mask</td>\n",
       "    </tr>\n",
       "    <tr>\n",
       "      <th>5984</th>\n",
       "      <td>/mnt/c/Users/yashb/Downloads/Yash Gupta Patter...</td>\n",
       "      <td>mask</td>\n",
       "    </tr>\n",
       "    <tr>\n",
       "      <th>5985</th>\n",
       "      <td>/mnt/c/Users/yashb/Downloads/Yash Gupta Patter...</td>\n",
       "      <td>no_mask</td>\n",
       "    </tr>\n",
       "    <tr>\n",
       "      <th>5986</th>\n",
       "      <td>/mnt/c/Users/yashb/Downloads/Yash Gupta Patter...</td>\n",
       "      <td>no_mask</td>\n",
       "    </tr>\n",
       "    <tr>\n",
       "      <th>5987</th>\n",
       "      <td>/mnt/c/Users/yashb/Downloads/Yash Gupta Patter...</td>\n",
       "      <td>no_mask</td>\n",
       "    </tr>\n",
       "  </tbody>\n",
       "</table>\n",
       "<p>5988 rows × 2 columns</p>\n",
       "</div>"
      ],
      "text/plain": [
       "                                               filepath    label\n",
       "0     /mnt/c/Users/yashb/Downloads/Yash Gupta Patter...  no_mask\n",
       "1     /mnt/c/Users/yashb/Downloads/Yash Gupta Patter...     mask\n",
       "2     /mnt/c/Users/yashb/Downloads/Yash Gupta Patter...  no_mask\n",
       "3     /mnt/c/Users/yashb/Downloads/Yash Gupta Patter...  no_mask\n",
       "4     /mnt/c/Users/yashb/Downloads/Yash Gupta Patter...     mask\n",
       "...                                                 ...      ...\n",
       "5983  /mnt/c/Users/yashb/Downloads/Yash Gupta Patter...     mask\n",
       "5984  /mnt/c/Users/yashb/Downloads/Yash Gupta Patter...     mask\n",
       "5985  /mnt/c/Users/yashb/Downloads/Yash Gupta Patter...  no_mask\n",
       "5986  /mnt/c/Users/yashb/Downloads/Yash Gupta Patter...  no_mask\n",
       "5987  /mnt/c/Users/yashb/Downloads/Yash Gupta Patter...  no_mask\n",
       "\n",
       "[5988 rows x 2 columns]"
      ]
     },
     "execution_count": 6,
     "metadata": {},
     "output_type": "execute_result"
    }
   ],
   "source": [
    "create_image_dataframe('../data/facemask_dataset/train/',os.getcwd()+\"/data.csv\",['mask','no_mask'])"
   ]
  },
  {
   "cell_type": "code",
   "execution_count": null,
   "id": "d04787e6-0094-4892-b748-0d70b0d4c35b",
   "metadata": {},
   "outputs": [],
   "source": []
  }
 ],
 "metadata": {
  "kernelspec": {
   "display_name": "Python 3 (ipykernel)",
   "language": "python",
   "name": "python3"
  },
  "language_info": {
   "codemirror_mode": {
    "name": "ipython",
    "version": 3
   },
   "file_extension": ".py",
   "mimetype": "text/x-python",
   "name": "python",
   "nbconvert_exporter": "python",
   "pygments_lexer": "ipython3",
   "version": "3.12.9"
  }
 },
 "nbformat": 4,
 "nbformat_minor": 5
}
